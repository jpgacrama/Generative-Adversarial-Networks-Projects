{
 "cells": [
  {
   "cell_type": "markdown",
   "metadata": {},
   "source": [
    "Complete Generator Adversarial Network which I typed"
   ]
  },
  {
   "cell_type": "code",
   "execution_count": null,
   "metadata": {},
   "outputs": [],
   "source": [
    "import os\n",
    "import time\n",
    "from keras.engine import training\n",
    "from keras.optimizer_v1 import Adam\n",
    "import scipy.io as io\n",
    "import numpy as np\n",
    "import scipy.ndimage as nd\n",
    "import matplotlib.pyplot as plt\n",
    "from os import system, name  \n",
    "import tensorflow as tf\n",
    "from keras.backend import shape\n",
    "from keras.layers import Input, LeakyReLU\n",
    "from keras.layers.convolutional import Deconv3D, Conv3D\n",
    "from keras.layers.core import Activation\n",
    "from keras.layers.normalization.batch_normalization import BatchNormalization\n",
    "from keras.models import Model\n",
    "from tensorflow.keras import Sequential\n",
    "from keras.callbacks import TensorBoard\n",
    "\n",
    "DIR_PATH = './data/3DShapeNets'"
   ]
  },
  {
   "cell_type": "markdown",
   "metadata": {},
   "source": [
    "Function to clear the screen"
   ]
  },
  {
   "cell_type": "code",
   "execution_count": null,
   "metadata": {},
   "outputs": [],
   "source": [
    "def clear():\n",
    "  \n",
    "    # for windows\n",
    "    if name == 'nt':\n",
    "        _ = system('cls')\n",
    "  \n",
    "    # for mac and linux(here, os.name is 'posix')\n",
    "    else:\n",
    "        _ = system('clear')"
   ]
  },
  {
   "cell_type": "markdown",
   "metadata": {},
   "source": [
    "Function to build the generator"
   ]
  },
  {
   "cell_type": "code",
   "execution_count": null,
   "metadata": {},
   "outputs": [],
   "source": [
    "def build_generator():\n",
    "    '''\n",
    "    Create a Generator Model with hyperparameters values defined as follows\n",
    "    :return: Generator network\n",
    "    '''\n",
    "    z_size = 200\n",
    "    gen_filters = [512, 256, 128, 64, 1]\n",
    "    gen_kernel_sizes = [4, 4, 4, 4, 4]\n",
    "    gen_strides = [1, 2, 2, 2, 2]\n",
    "    gen_input_shape = (1, 1, 1, z_size)\n",
    "    gen_activations = ['relu', 'relu', 'relu', 'relu', 'sigmoid']\n",
    "    gen_convolutional_blocks = 5\n",
    "\n",
    "    # Create the input layer\n",
    "    input_layer = Input(shape=gen_input_shape)\n",
    "\n",
    "    # First 3D transpose convolution otherwise known in Keras as Deconvolution\n",
    "    layer = Deconv3D(filters=gen_filters[0],\n",
    "                     kernel_size=gen_kernel_sizes[0],\n",
    "                     strides=gen_strides[0])(input_layer) \n",
    "    layer = BatchNormalization()(layer, training=True)\n",
    "    layer = Activation(activation=gen_activations[0])(layer)\n",
    "\n",
    "    # Add 4 3D transpose convolution blocks\n",
    "    for i in range(gen_convolutional_blocks - 1):\n",
    "        layer = Deconv3D(\n",
    "                    filters=gen_filters[i+1],\n",
    "                    kernel_size=gen_kernel_sizes[i+1],\n",
    "                    strides=gen_strides[i+1],\n",
    "                    padding='same')(layer)\n",
    "        layer = BatchNormalization()(layer, training=True)\n",
    "        layer = Activation(activation=gen_activations[i+1])(layer)\n",
    "\n",
    "    # Create a Keras Model\n",
    "    gen_model = Model(inputs=input_layer, outputs=layer)\n",
    "    gen_model.summary()\n",
    "    return gen_model\n"
   ]
  },
  {
   "cell_type": "markdown",
   "metadata": {},
   "source": [
    "Function to build the discriminator"
   ]
  },
  {
   "cell_type": "code",
   "execution_count": null,
   "metadata": {},
   "outputs": [],
   "source": [
    "def build_discriminator():\n",
    "    '''\n",
    "    Create a Discriminator Model using hyperparameters values defined as follows\n",
    "    :return: Discriminator network\n",
    "    '''\n",
    "    dis_input_shape = (64, 64, 64, 1)\n",
    "    dis_filters = [64, 128, 256, 512, 1]\n",
    "    dis_kernel_sizes = [4, 4, 4, 4, 4]\n",
    "    dis_strides = [2, 2, 2, 2, 1]\n",
    "    dis_paddings = ['same', 'same', 'same', 'same', 'valid']\n",
    "    dis_alphas = [0.2, 0.2, 0.2, 0.2, 0.2]\n",
    "    dis_activations = ['leaky_relu', 'leaky_relu', 'leaky_relu', 'leaky_relu', 'sigmoid']\n",
    "    dis_convolutional_blocks = 5\n",
    "    \n",
    "    # Create the input layer\n",
    "    dis_input_layer = Input(shape=dis_input_shape)\n",
    "\n",
    "    # The first 3D convolution block\n",
    "    layer = Conv3D(filters=dis_filters[0],\n",
    "                   kernel=dis_kernel_sizes[0],\n",
    "                   strides=dis_strides[0],\n",
    "                   padding=dis_paddings[0])(dis_input_layer)\n",
    "    layer = BatchNormalization()(layer, training=True)\n",
    "    layer = LeakyReLU(dis_alphas[0])(layer)\n",
    "\n",
    "    # Add 4 more convolutional blocks\n",
    "    for i in range(dis_convolutional_blocks - 1):\n",
    "        layer = Conv3D(filters=dis_filters[i+1],\n",
    "                       kernel_size=dis_kernel_sizes[i+1],\n",
    "                       strides=dis_strides[i+1],\n",
    "                       padding=dis_paddings[i+1])(layer)\n",
    "        layer = BatchNormalization()(layer, training=True)\n",
    "        if dis_activations[i+1] == 'leaky_relu':\n",
    "            layer = LeakyReLU(dis_alphas[i+1])(layer)\n",
    "\n",
    "    dis_model = Model(inputs=dis_input_layer, outputs=layer)\n",
    "    print(dis_model.summary())\n",
    "    return dis_model\n"
   ]
  },
  {
   "cell_type": "markdown",
   "metadata": {},
   "source": [
    "Helper functions to get various data"
   ]
  },
  {
   "cell_type": "code",
   "execution_count": null,
   "metadata": {},
   "outputs": [],
   "source": []
  }
 ],
 "metadata": {
  "interpreter": {
   "hash": "23dcebfce62aefae44217c5d4a070f68459ecc6c0c4cac8874d16e6b1ca5a009"
  },
  "kernelspec": {
   "display_name": "Python 3.9.7 64-bit (conda)",
   "name": "python3"
  },
  "language_info": {
   "name": "python",
   "version": "3.9.7"
  },
  "orig_nbformat": 4
 },
 "nbformat": 4,
 "nbformat_minor": 2
}
